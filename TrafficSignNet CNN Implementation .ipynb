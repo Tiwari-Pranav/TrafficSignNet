{
 "cells": [
  {
   "cell_type": "markdown",
   "id": "99ecd5f3",
   "metadata": {},
   "source": [
    "Name : Pranav Tiwari\n",
    "\n",
    "Roll no : 201127"
   ]
  },
  {
   "cell_type": "markdown",
   "id": "e359d55d",
   "metadata": {},
   "source": [
    "# CNN Implementation\n",
    "\n",
    "## Traffic Signal Recognition"
   ]
  },
  {
   "cell_type": "markdown",
   "id": "9830f381",
   "metadata": {},
   "source": [
    "Aim:- To classify traffic signals images using CNN architecture"
   ]
  },
  {
   "cell_type": "code",
   "execution_count": 1,
   "id": "ee708b17",
   "metadata": {},
   "outputs": [],
   "source": [
    "import numpy as np \n",
    "import pandas as pd \n",
    "import matplotlib.pyplot as plt\n",
    "import cv2\n",
    "import tensorflow as tf\n",
    "from PIL import Image\n",
    "import os\n",
    "from sklearn.model_selection import train_test_split\n",
    "from keras.utils import to_categorical\n",
    "from keras.models import Sequential, load_model\n",
    "from keras.layers import Conv2D, MaxPool2D, Dense, Flatten, Dropout\n"
   ]
  },
  {
   "cell_type": "markdown",
   "id": "c77d3a83",
   "metadata": {},
   "source": [
    "Dataset used:- GTSRB - German Traffic Sign Recognition Benchmark\n",
    "\n",
    "https://www.kaggle.com/datasets/meowmeowmeowmeowmeow/gtsrb-german-traffic-sign?resource=download"
   ]
  },
  {
   "cell_type": "code",
   "execution_count": 2,
   "id": "50109ccf",
   "metadata": {},
   "outputs": [],
   "source": [
    "# Dataset Structure\n",
    "# Train---0\\ contain images of class 0\n",
    "#       --1\\ contain images of class 1\n",
    "#       --2\\ contain images of class 2\n",
    "data = []\n",
    "labels = []\n",
    "classes = 43\n",
    "for i in range(classes):\n",
    "    path = os.path.join('D:\\Dataset\\GTSRB - German Traffic Sign Recognition Benchmark','Train',str(i))\n",
    "    images = os.listdir(path)\n",
    "    for a in images:\n",
    "        try:\n",
    "            image = Image.open(path + '\\\\'+ a)\n",
    "            image = image.resize((30,30))\n",
    "            image = np.array(image)\n",
    "            data.append(image) \n",
    "            labels.append(i)\n",
    "        except:\n",
    "            print(\"Error loading image\")\n"
   ]
  },
  {
   "cell_type": "markdown",
   "id": "d31d612f",
   "metadata": {},
   "source": [
    "### Train-Dev Split"
   ]
  },
  {
   "cell_type": "code",
   "execution_count": 3,
   "id": "0009ea22",
   "metadata": {},
   "outputs": [
    {
     "name": "stdout",
     "output_type": "stream",
     "text": [
      "Tolat Size   :  (39209, 30, 30, 3) (39209,)\n",
      "X Train size :  (31367, 30, 30, 3)\n",
      "y Train size :  (31367,)\n",
      "X Test size  :  (7842, 30, 30, 3)\n",
      "y Test size  :  (7842,)\n"
     ]
    }
   ],
   "source": [
    "#Converting lists into numpy arrays\n",
    "data = np.array(data)\n",
    "labels = np.array(labels)\n",
    "print(\"Tolat Size   : \", data.shape, labels.shape)\n",
    "#Splitting training and testing dataset\n",
    "X_train, X_dev, y_train, y_dev = train_test_split(data, labels, test_size=0.2, random_state=42)\n",
    "print(\"X Train size : \",X_train.shape)\n",
    "print(\"y Train size : \",y_train.shape)\n",
    "print(\"X Test size  : \",X_dev.shape)\n",
    "print(\"y Test size  : \",y_dev.shape)\n"
   ]
  },
  {
   "cell_type": "code",
   "execution_count": 4,
   "id": "fc7cd3f3",
   "metadata": {},
   "outputs": [],
   "source": [
    "#Converting the labels into one hot encoding\n",
    "y_train = to_categorical(y_train, 43)\n",
    "y_dev = to_categorical(y_dev, 43)"
   ]
  },
  {
   "cell_type": "code",
   "execution_count": 5,
   "id": "8694d752",
   "metadata": {},
   "outputs": [
    {
     "name": "stdout",
     "output_type": "stream",
     "text": [
      "y_train\n",
      " [[0. 0. 0. ... 0. 0. 0.]\n",
      " [0. 0. 0. ... 0. 0. 0.]\n",
      " [0. 0. 1. ... 0. 0. 0.]\n",
      " ...\n",
      " [0. 0. 0. ... 0. 0. 0.]\n",
      " [0. 1. 0. ... 0. 0. 0.]\n",
      " [0. 0. 0. ... 0. 0. 0.]]\n",
      "y_test\n",
      " [[0. 0. 0. ... 0. 0. 0.]\n",
      " [0. 0. 0. ... 0. 0. 0.]\n",
      " [0. 0. 0. ... 0. 0. 0.]\n",
      " ...\n",
      " [0. 0. 0. ... 0. 0. 0.]\n",
      " [0. 0. 0. ... 0. 0. 0.]\n",
      " [0. 0. 0. ... 0. 0. 0.]]\n"
     ]
    }
   ],
   "source": [
    "print(\"y_train\\n\",y_train)\n",
    "print(\"y_test\\n\",y_dev)"
   ]
  },
  {
   "cell_type": "markdown",
   "id": "0aead236",
   "metadata": {},
   "source": [
    "### CNN Architecture "
   ]
  },
  {
   "cell_type": "code",
   "execution_count": 6,
   "id": "c941dda4",
   "metadata": {},
   "outputs": [],
   "source": [
    "#Building the model\n",
    "model = Sequential()\n",
    "model.add(Conv2D(filters=32, kernel_size=(5,5), activation='relu', input_shape=X_train.shape[1:]))\n",
    "model.add(Conv2D(filters=32, kernel_size=(5,5), activation='relu'))\n",
    "model.add(MaxPool2D(pool_size=(2, 2)))\n",
    "model.add(Dropout(rate=0.25))\n",
    "model.add(Conv2D(filters=64, kernel_size=(3, 3), activation='relu'))\n",
    "model.add(Conv2D(filters=64, kernel_size=(3, 3), activation='relu'))\n",
    "model.add(MaxPool2D(pool_size=(2, 2)))\n",
    "model.add(Dropout(rate=0.25))\n",
    "model.add(Flatten())\n",
    "model.add(Dense(256, activation='relu'))\n",
    "model.add(Dropout(rate=0.5))\n",
    "model.add(Dense(43, activation='softmax'))\n"
   ]
  },
  {
   "cell_type": "code",
   "execution_count": 7,
   "id": "82af1ac4",
   "metadata": {},
   "outputs": [
    {
     "name": "stdout",
     "output_type": "stream",
     "text": [
      "Model: \"sequential\"\n",
      "_________________________________________________________________\n",
      " Layer (type)                Output Shape              Param #   \n",
      "=================================================================\n",
      " conv2d (Conv2D)             (None, 26, 26, 32)        2432      \n",
      "                                                                 \n",
      " conv2d_1 (Conv2D)           (None, 22, 22, 32)        25632     \n",
      "                                                                 \n",
      " max_pooling2d (MaxPooling2  (None, 11, 11, 32)        0         \n",
      " D)                                                              \n",
      "                                                                 \n",
      " dropout (Dropout)           (None, 11, 11, 32)        0         \n",
      "                                                                 \n",
      " conv2d_2 (Conv2D)           (None, 9, 9, 64)          18496     \n",
      "                                                                 \n",
      " conv2d_3 (Conv2D)           (None, 7, 7, 64)          36928     \n",
      "                                                                 \n",
      " max_pooling2d_1 (MaxPoolin  (None, 3, 3, 64)          0         \n",
      " g2D)                                                            \n",
      "                                                                 \n",
      " dropout_1 (Dropout)         (None, 3, 3, 64)          0         \n",
      "                                                                 \n",
      " flatten (Flatten)           (None, 576)               0         \n",
      "                                                                 \n",
      " dense (Dense)               (None, 256)               147712    \n",
      "                                                                 \n",
      " dropout_2 (Dropout)         (None, 256)               0         \n",
      "                                                                 \n",
      " dense_1 (Dense)             (None, 43)                11051     \n",
      "                                                                 \n",
      "=================================================================\n",
      "Total params: 242251 (946.29 KB)\n",
      "Trainable params: 242251 (946.29 KB)\n",
      "Non-trainable params: 0 (0.00 Byte)\n",
      "_________________________________________________________________\n"
     ]
    }
   ],
   "source": [
    "model.summary()"
   ]
  },
  {
   "cell_type": "markdown",
   "id": "3ad9ed9a",
   "metadata": {},
   "source": [
    "### Model Training"
   ]
  },
  {
   "cell_type": "code",
   "execution_count": 8,
   "id": "bf4c7e7f",
   "metadata": {},
   "outputs": [
    {
     "name": "stdout",
     "output_type": "stream",
     "text": [
      "Epoch 1/15\n",
      "981/981 [==============================] - 36s 36ms/step - loss: 1.7876 - accuracy: 0.5434 - val_loss: 0.3431 - val_accuracy: 0.9346\n",
      "Epoch 2/15\n",
      "981/981 [==============================] - 36s 37ms/step - loss: 0.4672 - accuracy: 0.8711 - val_loss: 0.1111 - val_accuracy: 0.9699\n",
      "Epoch 3/15\n",
      "981/981 [==============================] - 36s 37ms/step - loss: 0.3150 - accuracy: 0.9100 - val_loss: 0.1655 - val_accuracy: 0.9584\n",
      "Epoch 4/15\n",
      "981/981 [==============================] - 36s 37ms/step - loss: 0.3046 - accuracy: 0.9174 - val_loss: 0.1608 - val_accuracy: 0.9621\n",
      "Epoch 5/15\n",
      "981/981 [==============================] - 36s 36ms/step - loss: 0.2256 - accuracy: 0.9380 - val_loss: 0.0662 - val_accuracy: 0.9824\n",
      "Epoch 6/15\n",
      "981/981 [==============================] - 35s 36ms/step - loss: 0.2162 - accuracy: 0.9416 - val_loss: 0.0585 - val_accuracy: 0.9828\n",
      "Epoch 7/15\n",
      "981/981 [==============================] - 38s 38ms/step - loss: 0.2162 - accuracy: 0.9429 - val_loss: 0.0512 - val_accuracy: 0.9861\n",
      "Epoch 8/15\n",
      "981/981 [==============================] - 37s 38ms/step - loss: 0.1855 - accuracy: 0.9507 - val_loss: 0.0496 - val_accuracy: 0.9874\n",
      "Epoch 9/15\n",
      "981/981 [==============================] - 35s 36ms/step - loss: 0.2018 - accuracy: 0.9467 - val_loss: 0.0568 - val_accuracy: 0.9836\n",
      "Epoch 10/15\n",
      "981/981 [==============================] - 35s 36ms/step - loss: 0.2066 - accuracy: 0.9470 - val_loss: 0.0369 - val_accuracy: 0.9898\n",
      "Epoch 11/15\n",
      "981/981 [==============================] - 38s 38ms/step - loss: 0.1953 - accuracy: 0.9508 - val_loss: 0.0313 - val_accuracy: 0.9912\n",
      "Epoch 12/15\n",
      "981/981 [==============================] - 38s 39ms/step - loss: 0.2073 - accuracy: 0.9473 - val_loss: 0.0367 - val_accuracy: 0.9906\n",
      "Epoch 13/15\n",
      "981/981 [==============================] - 38s 38ms/step - loss: 0.2346 - accuracy: 0.9450 - val_loss: 0.0446 - val_accuracy: 0.9884\n",
      "Epoch 14/15\n",
      "981/981 [==============================] - 37s 38ms/step - loss: 0.1922 - accuracy: 0.9531 - val_loss: 0.0537 - val_accuracy: 0.9865\n",
      "Epoch 15/15\n",
      "981/981 [==============================] - 34s 35ms/step - loss: 0.2339 - accuracy: 0.9460 - val_loss: 0.0441 - val_accuracy: 0.9885\n"
     ]
    }
   ],
   "source": [
    "#Compilation of the model\n",
    "model.compile(loss='categorical_crossentropy', optimizer='adam', metrics=['accuracy'])\n",
    "epochs = 15\n",
    "history = model.fit(X_train, y_train, batch_size=32, epochs=epochs, validation_data=(X_dev, y_dev))\n"
   ]
  },
  {
   "cell_type": "code",
   "execution_count": 9,
   "id": "924b5125",
   "metadata": {},
   "outputs": [
    {
     "data": {
      "image/png": "[encoded data removed]",
      "text/plain": [
       "<Figure size 640x480 with 1 Axes>"
      ]
     },
     "metadata": {},
     "output_type": "display_data"
    },
    {
     "data": {
      "image/png": "[encoded data removed]",
      "text/plain": [
       "<Figure size 640x480 with 1 Axes>"
      ]
     },
     "metadata": {},
     "output_type": "display_data"
    }
   ],
   "source": [
    "#plotting graphs for accuracy \n",
    "plt.figure(0)\n",
    "plt.plot(history.history['accuracy'], label='training accuracy')\n",
    "plt.plot(history.history['val_accuracy'], label='val accuracy')\n",
    "plt.title('Accuracy')\n",
    "plt.xlabel('epochs')\n",
    "plt.ylabel('accuracy')\n",
    "plt.legend()\n",
    "plt.show()\n",
    "plt.figure(1)\n",
    "plt.plot(history.history['loss'], label='training loss')\n",
    "plt.plot(history.history['val_loss'], label='val loss')\n",
    "plt.title('Loss')\n",
    "plt.xlabel('epochs')\n",
    "plt.ylabel('loss')\n",
    "plt.legend()\n",
    "plt.show()\n"
   ]
  },
  {
   "cell_type": "markdown",
   "id": "f413de13",
   "metadata": {},
   "source": [
    "### Model Testing "
   ]
  },
  {
   "cell_type": "code",
   "execution_count": 10,
   "id": "a0712bf5",
   "metadata": {},
   "outputs": [
    {
     "name": "stdout",
     "output_type": "stream",
     "text": [
      "395/395 [==============================] - 3s 7ms/step\n",
      "0.9593824228028504\n"
     ]
    }
   ],
   "source": [
    "os.chdir('D:\\Dataset\\GTSRB - German Traffic Sign Recognition Benchmark')\n",
    "#testing accuracy on test dataset\n",
    "from sklearn.metrics import accuracy_score\n",
    "\n",
    "# Testing accuracy on the test dataset\n",
    "y_test = pd.read_csv('Test.csv')\n",
    "labels = y_test[\"ClassId\"].values\n",
    "imgs = y_test[\"Path\"].values\n",
    "data = []\n",
    "\n",
    "for img in imgs:\n",
    "    image = Image.open(img)\n",
    "    image = image.resize((30, 30))\n",
    "    data.append(np.array(image))\n",
    "\n",
    "X_test = np.array(data)\n",
    "\n",
    "# Predict probabilities for each class using the model\n",
    "probs = model.predict(X_test)\n",
    "\n",
    "# Get the class with the highest probability for each prediction\n",
    "pred = np.argmax(probs, axis=1)\n",
    "\n",
    "# Accuracy with the test data\n",
    "print(accuracy_score(labels, pred))"
   ]
  },
  {
   "cell_type": "markdown",
   "id": "91666f7e",
   "metadata": {},
   "source": [
    "### Save Model"
   ]
  },
  {
   "cell_type": "code",
   "execution_count": 11,
   "id": "07ea02c6",
   "metadata": {},
   "outputs": [],
   "source": [
    "model.save('traffic_classifier.keras')"
   ]
  }
 ],
 "metadata": {
  "kernelspec": {
   "display_name": "Python 3 (ipykernel)",
   "language": "python",
   "name": "python3"
  },
  "language_info": {
   "codemirror_mode": {
    "name": "ipython",
    "version": 3
   },
   "file_extension": ".py",
   "mimetype": "text/x-python",
   "name": "python",
   "nbconvert_exporter": "python",
   "pygments_lexer": "ipython3",
   "version": "3.9.16"
  }
 },
 "nbformat": 4,
 "nbformat_minor": 5
}
